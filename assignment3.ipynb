{
 "cells": [
  {
   "cell_type": "raw",
   "id": "87b48226-6c3e-4fe4-a6f3-df53d4aefd13",
   "metadata": {},
   "source": [
    "Q1.  Explain with an example each when to use a for loop and a while loop. "
   ]
  },
  {
   "cell_type": "code",
   "execution_count": 2,
   "id": "5cf003ff-1daf-41d7-9c0c-37efc2681640",
   "metadata": {},
   "outputs": [],
   "source": [
    "ans: '''we use for loop when we did know the number of iterations that is nothing but the number \n",
    "       of data available in the list and we use while loop when we did not the exact number of iterations\n",
    "       that we are going to get so if there are multiple inputs that can not be count then we should use \n",
    "       while loop...'''"
   ]
  },
  {
   "cell_type": "raw",
   "id": "245a97ea-a2bf-4223-9c8d-44af57566e15",
   "metadata": {},
   "source": [
    "Q2. Write a python program to print the sum and product of the first 10 natural numbers using for and while loop."
   ]
  },
  {
   "cell_type": "code",
   "execution_count": 3,
   "id": "ddf43110-7a99-4997-94ec-1e58a022e54d",
   "metadata": {},
   "outputs": [
    {
     "data": {
      "text/plain": [
       "55"
      ]
     },
     "execution_count": 3,
     "metadata": {},
     "output_type": "execute_result"
    }
   ],
   "source": [
    "result = 0\n",
    "for i in range (0,11):\n",
    "    result = result + i\n",
    "result"
   ]
  },
  {
   "cell_type": "code",
   "execution_count": null,
   "id": "e8a279d9-50b3-4cad-859b-67a6e7a2e303",
   "metadata": {},
   "outputs": [
    {
     "data": {
      "text/plain": [
       "55"
      ]
     },
     "execution_count": 4,
     "metadata": {},
     "output_type": "execute_result"
    }
   ],
   "source": [
    "counter = 0\n",
    "result = 0\n",
    "while counter <= 10 :\n",
    "    result = result + counter\n",
    "    counter= counter+1\n",
    "result"
   ]
  },
  {
   "cell_type": "code",
   "execution_count": 8,
   "id": "25ae80ae-0b05-49ff-8c00-9249bdca5875",
   "metadata": {},
   "outputs": [
    {
     "data": {
      "text/plain": [
       "3628800"
      ]
     },
     "execution_count": 8,
     "metadata": {},
     "output_type": "execute_result"
    }
   ],
   "source": [
    "product = 1\n",
    "for i in range(1,11):\n",
    "    product = product * i\n",
    "product"
   ]
  },
  {
   "cell_type": "code",
   "execution_count": 9,
   "id": "fa128c8b-86f0-42ac-b804-04bd5e07b3f9",
   "metadata": {},
   "outputs": [
    {
     "data": {
      "text/plain": [
       "3628800"
      ]
     },
     "execution_count": 9,
     "metadata": {},
     "output_type": "execute_result"
    }
   ],
   "source": [
    "product = 1\n",
    "i = 1\n",
    "while i <= 10 :\n",
    "    product = product*i\n",
    "    i += 1\n",
    "product\n"
   ]
  },
  {
   "cell_type": "raw",
   "id": "1bed8503-f0ba-492f-b409-bf2711bf8878",
   "metadata": {},
   "source": [
    "Q3. Create a python program to compute the electricity bill for a household. \n",
    "    The per-unit charges in rupees are as follows: For the first 100 units, the user will be charged Rs. 4.5       per  unit, for the next 100 units, the user will be charged Rs. 6 per unit, and for the next 100 units,the user will  be charged Rs. 10 per unit, After 300 units and above the user will be charged Rs. 20 per unit.You are required to take the units of electricity consumed in a month from the user as input. \n",
    "\n",
    "example : Your program must pass this test case: when the unit of electricity consumed by the user in a month is  310, the total electricity bill should be 2250....\n"
   ]
  },
  {
   "cell_type": "code",
   "execution_count": 5,
   "id": "302bc50e-d060-4040-9300-081b195cabda",
   "metadata": {},
   "outputs": [
    {
     "name": "stdin",
     "output_type": "stream",
     "text": [
      "enter your units 310\n"
     ]
    },
    {
     "name": "stdout",
     "output_type": "stream",
     "text": [
      "you will be charged rs 2250\n"
     ]
    }
   ],
   "source": [
    "units = int(input('enter your units'))\n",
    "x = 0\n",
    "if units <= 100:\n",
    "    x = units*4.5\n",
    "    print('you will be charge rs ', x)\n",
    "elif units <= 200:\n",
    "    x = 450 + (units-100)*6\n",
    "    print('you will be charged rs',x)\n",
    "elif units <= 300:\n",
    "    x = 1050 + (units-200)*10\n",
    "    print('you will be charged rs',x)\n",
    "else:\n",
    "    units > 300\n",
    "    x = 2050 + (units-300)*20\n",
    "    print('you will be charged rs',x)   "
   ]
  },
  {
   "cell_type": "raw",
   "id": "f5d50b3a-107b-43ba-a445-bb888e751036",
   "metadata": {},
   "source": [
    "Q4. Create a list of numbers from 1 to 100. Use for loop and while loop to calculate the cube of each  number     and if the cube of that number is divisible by 4 or 5 then append that number in a list and print  that list. \n"
   ]
  },
  {
   "cell_type": "code",
   "execution_count": 6,
   "id": "c9c38395-4d8b-49cd-b1cf-511ec04f7a3a",
   "metadata": {},
   "outputs": [
    {
     "name": "stdout",
     "output_type": "stream",
     "text": [
      "8 ,  64 ,  125 ,  216 ,  512 ,  1000 ,  1728 ,  2744 ,  3375 ,  4096 ,  5832 ,  8000 ,  10648 ,  13824 ,  15625 ,  17576 ,  21952 ,  27000 ,  32768 ,  39304 ,  42875 ,  46656 ,  54872 ,  64000 ,  74088 ,  85184 ,  91125 ,  97336 ,  110592 ,  125000 ,  140608 ,  157464 ,  166375 ,  175616 ,  195112 ,  216000 ,  238328 ,  262144 ,  274625 ,  287496 ,  314432 ,  343000 ,  373248 ,  405224 ,  421875 ,  438976 ,  474552 ,  512000 ,  551368 ,  592704 ,  614125 ,  636056 ,  681472 ,  729000 ,  778688 ,  830584 ,  857375 ,  884736 ,  941192 ,  1000000 ,  "
     ]
    }
   ],
   "source": [
    "l = []\n",
    "i = 1\n",
    "x = 'cube'\n",
    "for i in range(1,101):\n",
    "    x = i**3\n",
    "    if x%4 == 0 or x%5 == 0:\n",
    "        print(x , ',  ', end='')\n",
    "        l.append(x)\n",
    "    else :\n",
    "         continue\n"
   ]
  },
  {
   "cell_type": "raw",
   "id": "8b2de198-6426-4704-9d2b-a08da012b536",
   "metadata": {},
   "source": [
    "Q5.  Write a program to filter count vowels in the below-given string. \n",
    "     string = \"I want to become a data scientist\" "
   ]
  },
  {
   "cell_type": "code",
   "execution_count": 7,
   "id": "82f6c493-3d36-489e-ae14-8c9cfc58b059",
   "metadata": {},
   "outputs": [
    {
     "name": "stdin",
     "output_type": "stream",
     "text": [
      "enter your sentence  i want to become data scientist\n"
     ]
    },
    {
     "name": "stdout",
     "output_type": "stream",
     "text": [
      "11\n"
     ]
    }
   ],
   "source": [
    "l = ['a','e','i','o','u','A','E','I','O','U']\n",
    "s = str(input('enter your sentence'))\n",
    "l1 = []\n",
    "count = 0\n",
    "for i in s :\n",
    "    if i in l :\n",
    "        count += 1 \n",
    "        l1.append(count)\n",
    "l1\n",
    "print(len(l1))"
   ]
  },
  {
   "cell_type": "code",
   "execution_count": null,
   "id": "c6c24986-c866-4e19-a0c3-3b216cef0b6f",
   "metadata": {},
   "outputs": [],
   "source": []
  }
 ],
 "metadata": {
  "kernelspec": {
   "display_name": "Python 3 (ipykernel)",
   "language": "python",
   "name": "python3"
  },
  "language_info": {
   "codemirror_mode": {
    "name": "ipython",
    "version": 3
   },
   "file_extension": ".py",
   "mimetype": "text/x-python",
   "name": "python",
   "nbconvert_exporter": "python",
   "pygments_lexer": "ipython3",
   "version": "3.10.8"
  }
 },
 "nbformat": 4,
 "nbformat_minor": 5
}
